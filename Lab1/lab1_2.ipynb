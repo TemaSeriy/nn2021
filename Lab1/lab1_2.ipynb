{
 "cells": [
  {
   "cell_type": "code",
   "execution_count": 33,
   "metadata": {},
   "outputs": [
    {
     "name": "stdout",
     "output_type": "stream",
     "text": [
      "The scalar is  7.17\n",
      "Is it true? :  True\n",
      "All this type is a scalar :\n",
      " (<class 'int'>, <class 'float'>, <class 'complex'>, <class 'int'>, <class 'bool'>, <class 'bytes'>, <class 'str'>, <class 'memoryview'>, <class 'numpy.uint32'>, <class 'numpy.int16'>, <class 'numpy.uint64'>, <class 'numpy.intc'>, <class 'numpy.int8'>, <class 'numpy.object_'>, <class 'numpy.float64'>, <class 'numpy.bool_'>, <class 'numpy.float32'>, <class 'numpy.datetime64'>, <class 'numpy.str_'>, <class 'numpy.complex64'>, <class 'numpy.uint16'>, <class 'numpy.bytes_'>, <class 'numpy.float16'>, <class 'numpy.clongdouble'>, <class 'numpy.int32'>, <class 'numpy.timedelta64'>, <class 'numpy.complex128'>, <class 'numpy.uintc'>, <class 'numpy.int64'>, <class 'numpy.void'>, <class 'numpy.longdouble'>, <class 'numpy.uint8'>)\n",
      "The scalar is  text\n",
      "Is it true? :  True\n",
      "The scalar was deleted\n",
      "\n",
      "The vector is\n",
      " [10 12 14 16 18 20 22 24 26 28]\n",
      "The type is\n",
      " <class 'numpy.ndarray'>\n",
      "Append a number 717\n",
      " [ 10  12  14  16  18  20  22  24  26  28 717]\n",
      "Delete a number 717\n",
      " [10 12 14 16 18 20 22 24 26 28]\n",
      "The vector was deleted\n",
      "\n",
      "Create empty array\n",
      " []\n",
      "All array\n",
      " [37, 88, 47, 67, 94]\n",
      "Delete first element\n",
      " [88, 47, 67, 94]\n",
      "Delete all elements\n",
      " []\n"
     ]
    }
   ],
   "source": [
    "#NumPy (створити набір даних (розмір за власним рішенням), провести CRUD операції над даними (скаляр, вектор, матриця)). Використати arange, random.\n",
    "import numpy as np\n",
    "from random import random\n",
    "from random import randint\n",
    "\n",
    "#Скаляр\n",
    "#--Create\n",
    "scalarr = 7.17\n",
    "#--Read\n",
    "print(\"The scalar is \",scalarr)\n",
    "print(\"Is it true? : \",np.isscalar(scalarr))\n",
    "print(\"All this type is a scalar :\\n\",np.ScalarType)\n",
    "#--Update\n",
    "scalarr = 'text'\n",
    "print(\"The scalar is \",scalarr)\n",
    "print(\"Is it true? : \",np.isscalar(scalarr))\n",
    "#--Delete\n",
    "del scalarr\n",
    "print(\"The scalar was deleted\\n\")\n",
    "\n",
    "\n",
    "#Вектор\n",
    "#--Create\n",
    "vectr = np.arange(10,30,2)\n",
    "#--Read\n",
    "print(\"The vector is\\n\",vectr)\n",
    "print(\"The type is\\n\",type(vectr))\n",
    "#--Update\n",
    "vectr = np.append(vectr, 717)\n",
    "print(\"Append a number 717\\n\",vectr)\n",
    "#--Delete\n",
    "vectr = np.delete(vectr, len(vectr)-1)\n",
    "print(\"Delete a number 717\\n\",vectr)\n",
    "del vectr\n",
    "print(\"The vector was deleted\\n\")\n",
    "\n",
    "\n",
    "#Матриця\n",
    "#--Create\n",
    "matr = []\n",
    "#--Read\n",
    "print(\"Create empty array\\n\",matr)\n",
    "#--Update\n",
    "n = int(input('Imput num of elements = '))\n",
    "while len(matr)!=n:\n",
    "    value = randint(1,100)\n",
    "    matr.append(value)\n",
    "print(\"Rand item of array\\n\",matr)\n",
    "#--Delete first element and all\n",
    "matr.pop(0)\n",
    "print(\"Delete first element\\n\",matr)\n",
    "del matr[:]\n",
    "print(\"Delete all elements\\n\",matr)\n",
    "\n",
    "\n"
   ]
  }
 ],
 "metadata": {
  "interpreter": {
   "hash": "1af1897e727f705b4b45a921e03291b1c553527a2ef9f399fc58ca414bd9107a"
  },
  "kernelspec": {
   "display_name": "Python 3.8.5 64-bit ('notebook': conda)",
   "name": "python3"
  },
  "language_info": {
   "codemirror_mode": {
    "name": "ipython",
    "version": 3
   },
   "file_extension": ".py",
   "mimetype": "text/x-python",
   "name": "python",
   "nbconvert_exporter": "python",
   "pygments_lexer": "ipython3",
   "version": "3.8.5"
  },
  "orig_nbformat": 4
 },
 "nbformat": 4,
 "nbformat_minor": 2
}
