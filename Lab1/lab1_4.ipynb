{
 "cells": [
  {
   "cell_type": "code",
   "execution_count": 31,
   "metadata": {},
   "outputs": [
    {
     "name": "stdout",
     "output_type": "stream",
     "text": [
      "mean_squared_error =  1.4136387421560533e-29\n",
      "MSE =  1.4136387421560533e-29\n",
      "MSE from SSE =  1.4136387421560533e-29\n",
      "----------------------------------\n",
      "mean_absolute_error 3.552713678800501e-15\n"
     ]
    },
    {
     "data": {
      "image/png": "[encoded data removed]",
      "text/plain": [
       "<Figure size 432x288 with 1 Axes>"
      ]
     },
     "metadata": {
      "needs_background": "light"
     },
     "output_type": "display_data"
    }
   ],
   "source": [
    "#Matplotlib (створити набір даних лінійної функції з урахуванням помилок вимірювань, побудувати графік функції та згенерованих даних, обчислити похибку з використанням метрик MAE, MSE). \n",
    "#Записати отримані результати у csv файл (формат: X,Y, Y_hat, mAE, mSE)\n",
    "\n",
    "import matplotlib.pyplot as plt\n",
    "import numpy as np\n",
    "from random import randint\n",
    "\n",
    "# Лінійна функція y=kx+b\n",
    "\n",
    "b = randint(0, 10)\n",
    "k = randint(0, 10)\n",
    "x = np.array([np.linspace(0, 10, 50)], ndmin=2).reshape((50,1))\n",
    "y = k*x+b\n",
    "\n",
    "plt.title(\"Лінійної функції y = {}*x+{}\".format(k,b))\n",
    "plt.xlabel(\"x\")\n",
    "plt.ylabel(\"y\")\n",
    "plt.grid()\n",
    "plt.plot(x, y)\n",
    "\n",
    "# MSE (Mean Squared Error)\n",
    "from sklearn.metrics import mean_squared_error\n",
    "from sklearn.linear_model import LinearRegression\n",
    "\n",
    "model = LinearRegression()\n",
    "model.fit(x,y)\n",
    "Y_pred = model.predict(x)\n",
    "\n",
    "mean_squared_error(y,Y_pred)\n",
    "print(\"mean_squared_error = \", mean_squared_error(y,Y_pred))\n",
    "MSE = np.square(np.subtract(y,Y_pred)).mean()\n",
    "print(\"MSE = \", MSE)\n",
    "SSE = np.mean((y-Y_pred)**2)\n",
    "print(\"MSE from SSE = \",SSE)\n",
    "print(\"----------------------------------\")\n",
    "\n",
    "# MAE (Mean absolute error) \n",
    "from sklearn.metrics import mean_absolute_error\n",
    "MAE = mean_absolute_error(y, Y_pred)\n",
    "print(\"mean_absolute_error\",MAE)\n",
    "\n",
    "#plt.plot(x, y, 'g^', x, Y_pred, 'g-')\n",
    "\n",
    "#To CSV\n",
    "import csv\n",
    "header = ['X', 'Y', 'Y_pred', 'MAE', 'MSE']\n",
    "#data = [x[:,0], y[:,0], Y_pred[:,0], MAE, MSE]\n",
    "np.savetxt(\"foo.csv\", x, delimiter=\",\")\n",
    "with open('lab1_4.csv', 'w', encoding='UTF8', newline='') as f:\n",
    "    writer = csv.writer(f)\n",
    "    writer.writerow(header)\n",
    "    for i in range(50):\n",
    "        data = [x[i],y[i],Y_pred[i],MAE,MSE]\n",
    "        writer.writerow(data)"
   ]
  }
 ],
 "metadata": {
  "interpreter": {
   "hash": "1af1897e727f705b4b45a921e03291b1c553527a2ef9f399fc58ca414bd9107a"
  },
  "kernelspec": {
   "display_name": "Python 3.8.5 64-bit ('notebook': conda)",
   "name": "python3"
  },
  "language_info": {
   "codemirror_mode": {
    "name": "ipython",
    "version": 3
   },
   "file_extension": ".py",
   "mimetype": "text/x-python",
   "name": "python",
   "nbconvert_exporter": "python",
   "pygments_lexer": "ipython3",
   "version": "3.8.5"
  },
  "orig_nbformat": 4
 },
 "nbformat": 4,
 "nbformat_minor": 2
}
